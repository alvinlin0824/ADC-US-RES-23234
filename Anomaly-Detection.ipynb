{
 "cells": [
  {
   "cell_type": "raw",
   "metadata": {},
   "source": [
    "---\n",
    "title: \"Anomaly Detection\"\n",
    "author: \"Alvin Lin\"\n",
    "date: now\n",
    "format: \n",
    "  html\n",
    "echo: false\n",
    "jupyter: python3\n",
    "---"
   ]
  },
  {
   "cell_type": "code",
   "execution_count": null,
   "metadata": {},
   "outputs": [],
   "source": [
    "#| label: Import-Modules\n",
    "import numpy as np\n",
    "import pandas as pd\n",
    "import pyreadr\n",
    "import matplotlib.pyplot as plt \n",
    "from datetime import datetime\n",
    "from sklearn.preprocessing import StandardScaler\n",
    "from matplotlib.dates import DateFormatter\n",
    "from sklearn.ensemble import IsolationForest"
   ]
  },
  {
   "cell_type": "code",
   "execution_count": null,
   "metadata": {},
   "outputs": [],
   "source": [
    "#| label: Import-Data.fillna({\"IVVAL01\":\"Valid\"})\n",
    "kgriv12 = pyreadr.read_r(\"//oneabbott.com/dept/ADC/Technical_OPS/Clinical_Affairs/Clinical Study Files/Apollo/ADC-US-RES-23234_IDE Pump Suspension Study/Statistics/Programs/Datasets/AL/kgriv12.rds\")\n",
    "# Transform to Dataframe and fill IVVAL01 with valid\n",
    "kgriv12 = kgriv12[None].set_index(\"Ketone Date Time\")\n",
    "kgriv12 = kgriv12[(kgriv12[\"IVVAL01\"] == \"Valid\") | (kgriv12[\"IVVAL01\"].isna())]\n",
    "kg_90004 = kgriv12[kgriv12[\"Subject\"] == \"90004\"]"
   ]
  },
  {
   "cell_type": "code",
   "execution_count": null,
   "metadata": {},
   "outputs": [],
   "source": [
    "#| label: Visualize\n",
    "fig, ax = plt.subplots(figsize=(15, 15))\n",
    "kg_90004.groupby(\"Ref Type\")[\"KRSEQ01\"].plot(legend = True)\n",
    "plt.xlabel(\"Date Time\")\n",
    "ax.xaxis.set_major_formatter(DateFormatter(\"%Y-%m-%d\\n %H:%M\"))\n",
    "plt.show()"
   ]
  },
  {
   "cell_type": "code",
   "execution_count": null,
   "metadata": {},
   "outputs": [],
   "source": [
    "#| label: Preprocessing\n",
    "randox = kg_90004[kg_90004[\"Ref Type\"] == \"Randox\"][\"KRSEQ01\"]\n",
    "scaler = StandardScaler()\n",
    "np_scaled = scaler.fit_transform(randox.values.reshape(-1, 1))\n",
    "data = pd.DataFrame(np_scaled)"
   ]
  },
  {
   "cell_type": "code",
   "execution_count": null,
   "metadata": {},
   "outputs": [],
   "source": [
    "#| label: Model\n",
    "outliers_fraction = float(.4)\n",
    "model =  IsolationForest(contamination=outliers_fraction)\n",
    "model.fit(data) "
   ]
  },
  {
   "cell_type": "code",
   "execution_count": null,
   "metadata": {},
   "outputs": [],
   "source": [
    "anomaly_data = pd.concat([randox, pd.DataFrame(model.predict(data),columns = [\"Anomaly\"], index = randox.index)],axis = 1)\n",
    "fig, ax = plt.subplots(figsize=(15,15))\n",
    "\n",
    "a = anomaly_data.loc[anomaly_data[\"Anomaly\"] == -1, [\"KRSEQ01\"]]\n",
    "\n",
    "ax.plot(anomaly_data.index, anomaly_data[\"KRSEQ01\"], color='black', label = 'Normal')\n",
    "ax.scatter(a.index,a[\"KRSEQ01\"], color='red', label = 'Anomaly')\n",
    "plt.legend()\n",
    "plt.show()"
   ]
  }
 ],
 "metadata": {
  "kernelspec": {
   "display_name": "Python 3",
   "language": "python",
   "name": "python3"
  },
  "language_info": {
   "codemirror_mode": {
    "name": "ipython",
    "version": 3
   },
   "file_extension": ".py",
   "mimetype": "text/x-python",
   "name": "python",
   "nbconvert_exporter": "python",
   "pygments_lexer": "ipython3",
   "version": "3.12.1"
  }
 },
 "nbformat": 4,
 "nbformat_minor": 2
}
